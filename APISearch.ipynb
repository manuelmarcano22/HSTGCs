{
 "cells": [
  {
   "cell_type": "code",
   "execution_count": 23,
   "metadata": {},
   "outputs": [],
   "source": [
    "import urllib, string, time\n",
    "import urllib.parse\n",
    "from astropy.coordinates import SkyCoord\n",
    "from astropy import units as u\n",
    "import pandas as pd\n",
    "from astropy.time import Time\n",
    "import numpy as np\n",
    "from tabulate import tabulate\n",
    "from astroquery.simbad import Simbad"
   ]
  },
  {
   "cell_type": "code",
   "execution_count": 44,
   "metadata": {},
   "outputs": [
    {
     "name": "stdout",
     "output_type": "stream",
     "text": [
      "MAIN_ID      RA         DEC     ... COO_QUAL COO_WAVELENGTH     COO_BIBCODE    \n",
      "          \"h:m:s\"     \"d:m:s\"   ...                                            \n",
      "------- ----------- ----------- ... -------- -------------- -------------------\n",
      "  M  80 16 17 02.41 -22 58 33.9 ...        C              O 2010AJ....140.1830G\n"
     ]
    }
   ],
   "source": [
    "namecluster = 'M80'\n",
    "result_table = Simbad.query_object(namecluster)\n",
    "print(result_table)\n",
    "t = result_table[0]\n"
   ]
  },
  {
   "cell_type": "code",
   "execution_count": 45,
   "metadata": {},
   "outputs": [
    {
     "name": "stdout",
     "output_type": "stream",
     "text": [
      "|    | Target Name        | Filters/Gratings   | Instrument   |   Exp Time |   Proposal ID |   ocurrence |\n",
      "|---:|:-------------------|:-------------------|:-------------|-----------:|--------------:|------------:|\n",
      "| 12 | M80-WFPC2          | F450W              | WFPC2        |     700    |         11233 |          12 |\n",
      "| 13 | M80-WFPC2          | F814W              | WFPC2        |     200    |         11233 |          12 |\n",
      "| 23 | NGC6093            | F336W              | WFPC2        |     700    |          6460 |          10 |\n",
      "| 27 | NGC6093            | F450W              | WFPC2        |     200    |          8655 |           7 |\n",
      "|  1 | EARTH-CALIB        | F502N              | WFPC2        |       1.2  |          6187 |           6 |\n",
      "|  0 | EARTH-CALIB        | F375N              | WFPC2        |      14    |          6187 |           6 |\n",
      "|  2 | EARTH-CALIB        | F656N              | WFPC2        |       0.35 |          6187 |           6 |\n",
      "|  3 | EARTH-CALIB        | F953N              | WFPC2        |       3    |          6187 |           6 |\n",
      "|  6 | M-80               | F438W              | WFC3         |      85    |         12605 |           5 |\n",
      "| 26 | NGC6093            | F450W              | WFPC2        |     160    |          8655 |           5 |\n",
      "|  4 | M-80               | F275W              | WFC3         |    1710    |         12605 |           5 |\n",
      "|  5 | M-80               | F336W              | WFC3         |     657    |         12605 |           5 |\n",
      "| 24 | NGC6093            | F336W              | WFPC2        |     800    |          6460 |           5 |\n",
      "| 18 | NGC6093            | F160BW             | WFPC2        |     900    |          5903 |           4 |\n",
      "| 37 | NGC6093-CORE       | F336W              | WFPC2        |     900    |          5677 |           4 |\n",
      "| 22 | NGC6093            | F336W              | WFPC2        |     600    |          5903 |           4 |\n",
      "| 38 | NGC6093-CORE       | F439W              | WFPC2        |     300    |          5677 |           4 |\n",
      "| 32 | NGC6093            | F555W              | WFPC2        |      23    |          5903 |           4 |\n",
      "| 11 | M80                | F165LP;N/A;F165LP  | ACS          |    2584    |         10183 |           3 |\n",
      "| 34 | NGC6093            | F656N              | WFPC2        |    1300    |          6460 |           3 |\n",
      "| 35 | NGC6093            | F675W              | WFPC2        |     260    |          6460 |           3 |\n",
      "| 20 | NGC6093            | F255W              | WFPC2        |     300    |          5903 |           3 |\n",
      "| 39 | NGC6093-RGB-OFFSET | MIRVIS             | STIS         |       0.5  |          7287 |           2 |\n",
      "| 31 | NGC6093            | F555W              | WFPC2        |       2    |          5903 |           2 |\n",
      "| 28 | NGC6093            | F547M              | WFPC         |     100    |          4063 |           2 |\n",
      "| 21 | NGC6093            | F336W              | WFPC         |    2000    |          4063 |           2 |\n",
      "| 25 | NGC6093            | F439W              | WFPC2        |      30    |          5903 |           2 |\n",
      "| 10 | M80                | F165LP;N/A;F165LP  | ACS          |    2480    |         10183 |           1 |\n",
      "| 41 | TSCO-1860          | G430L              | STIS         |   11544    |          7287 |           1 |\n",
      "| 40 | NGC6093-RGB-OFFSET | MIRVIS             | STIS         |       1.1  |          7287 |           1 |\n",
      "|  7 | M80                | CLEAR1S;F250W      | ACS          |    2384    |         10183 |           1 |\n",
      "|  8 | M80                | F140LP;N/A;F140LP  | ACS          |    2480    |         10183 |           1 |\n",
      "|  9 | M80                | F150LP;N/A;F150LP  | ACS          |    2480    |         10183 |           1 |\n",
      "| 36 | NGC6093            | F785LP             | WFPC         |     200    |          3565 |           1 |\n",
      "| 14 | MESSIER-080        | CLEAR1L;F435W      | ACS          |     420    |         10573 |           1 |\n",
      "| 19 | NGC6093            | F255W              | WFPC2        |     260    |          5903 |           1 |\n",
      "| 33 | NGC6093            | F606W;CLEAR2L      | ACS          |    1710    |         10775 |           1 |\n",
      "| 15 | MESSIER-080        | CLEAR1L;F814W      | ACS          |      75    |         10573 |           1 |\n",
      "| 16 | MESSIER-080        | F555W;CLEAR2L      | ACS          |     180    |         10573 |           1 |\n",
      "| 30 | NGC6093            | F555W              | WFPC         |     200    |          3565 |           1 |\n",
      "| 29 | NGC6093            | F547M              | WFPC         |    1000    |          4063 |           1 |\n",
      "| 17 | NGC6093            | CLEAR1L;F814W      | ACS          |    1710    |         10775 |           1 |\n",
      "| 42 | TSCO-1860          | G430L              | STIS         |    1950.8  |          7287 |           1 |\n"
     ]
    }
   ],
   "source": [
    "racluster = t['RA']\n",
    "deccluster = t['DEC']\n",
    "c = SkyCoord(f'{racluster} {deccluster}', unit=(u.hourangle, u.deg))\n",
    "\n",
    "ra = c.ra.deg\n",
    "dec= c.dec.deg\n",
    "radius = 3.0\n",
    "\n",
    "# create URL with desired search parameters\n",
    "\n",
    "url = \"https://archive.stsci.edu/hst/search.php?\"\n",
    "url = url + f\"&RA={ra}\"\n",
    "url = url + f\"&DEC={dec}\"\n",
    "url = url + f\"&radius={radius}\"\n",
    "url = url + \"&outputformat=CSV\"\n",
    "url = url + \"&action=Search\"\n",
    "\n",
    "\n",
    "data = pd.read_csv(url,low_memory=False)\n",
    "\n",
    "data = data.drop(data.index[0])\n",
    "#m4data\n",
    "#data['YearDay'] = data['Start Time'].map(lambda times: '.'.join(Time(times).yday.split(':',2)[:2]))\n",
    "\n",
    "#data['Week'] = data['Start Time'].map(lambda times: int(np.floor(float(Time(times).yday.split(':')[1])/7.)))\n",
    "#data2 = data[data['High-Level Science Products'] == '1']\n",
    "t =data.groupby(['Target Name','Filters/Gratings','Instrument','Exp Time','Proposal ID']).size().reset_index().rename(columns={0:'ocurrence'})\n",
    "#t.sort_values(by=['ocurrence'],ascending=False)\n",
    "print(tabulate(t.sort_values(by=['ocurrence'],ascending=False), tablefmt=\"pipe\", headers=\"keys\"))"
   ]
  },
  {
   "cell_type": "code",
   "execution_count": 47,
   "metadata": {},
   "outputs": [
    {
     "data": {
      "text/html": [
       "<div>\n",
       "<style scoped>\n",
       "    .dataframe tbody tr th:only-of-type {\n",
       "        vertical-align: middle;\n",
       "    }\n",
       "\n",
       "    .dataframe tbody tr th {\n",
       "        vertical-align: top;\n",
       "    }\n",
       "\n",
       "    .dataframe thead th {\n",
       "        text-align: right;\n",
       "    }\n",
       "</style>\n",
       "<table border=\"1\" class=\"dataframe\">\n",
       "  <thead>\n",
       "    <tr style=\"text-align: right;\">\n",
       "      <th></th>\n",
       "      <th>Dataset</th>\n",
       "      <th>Target Name</th>\n",
       "      <th>RA (J2000)</th>\n",
       "      <th>Dec (J2000)</th>\n",
       "      <th>Ref</th>\n",
       "      <th>Start Time</th>\n",
       "      <th>Stop Time</th>\n",
       "      <th>Exp Time</th>\n",
       "      <th>Instrument</th>\n",
       "      <th>Apertures</th>\n",
       "      <th>Filters/Gratings</th>\n",
       "      <th>Central Wavelength</th>\n",
       "      <th>Proposal ID</th>\n",
       "      <th>Release Date</th>\n",
       "      <th>Preview Name</th>\n",
       "      <th>Scan Type</th>\n",
       "      <th>High-Level Science Products</th>\n",
       "      <th>Ang Sep (')</th>\n",
       "      <th>YearDay</th>\n",
       "      <th>Week</th>\n",
       "    </tr>\n",
       "  </thead>\n",
       "  <tbody>\n",
       "  </tbody>\n",
       "</table>\n",
       "</div>"
      ],
      "text/plain": [
       "Empty DataFrame\n",
       "Columns: [Dataset, Target Name, RA (J2000), Dec (J2000), Ref, Start Time, Stop Time, Exp Time, Instrument, Apertures, Filters/Gratings, Central Wavelength, Proposal ID, Release Date, Preview Name, Scan Type, High-Level Science Products, Ang Sep ('), YearDay, Week]\n",
       "Index: []"
      ]
     },
     "execution_count": 47,
     "metadata": {},
     "output_type": "execute_result"
    }
   ],
   "source": [
    "data2"
   ]
  },
  {
   "cell_type": "code",
   "execution_count": 51,
   "metadata": {},
   "outputs": [
    {
     "data": {
      "text/plain": [
       "2      False\n",
       "3      False\n",
       "4       True\n",
       "5       True\n",
       "6      False\n",
       "       ...  \n",
       "283    False\n",
       "284    False\n",
       "285    False\n",
       "286    False\n",
       "287    False\n",
       "Name: High-Level Science Products, Length: 286, dtype: bool"
      ]
     },
     "execution_count": 51,
     "metadata": {},
     "output_type": "execute_result"
    }
   ],
   "source": [
    "data['High-Level Science Products'] == '1'"
   ]
  },
  {
   "cell_type": "code",
   "execution_count": null,
   "metadata": {},
   "outputs": [],
   "source": []
  }
 ],
 "metadata": {
  "kernelspec": {
   "display_name": "Python 3",
   "language": "python",
   "name": "python3"
  },
  "language_info": {
   "codemirror_mode": {
    "name": "ipython",
    "version": 3
   },
   "file_extension": ".py",
   "mimetype": "text/x-python",
   "name": "python",
   "nbconvert_exporter": "python",
   "pygments_lexer": "ipython3",
   "version": "3.7.4"
  }
 },
 "nbformat": 4,
 "nbformat_minor": 4
}
