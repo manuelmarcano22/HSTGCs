{
 "cells": [
  {
   "cell_type": "code",
   "execution_count": 23,
   "metadata": {},
   "outputs": [],
   "source": [
    "import urllib, string, time\n",
    "import urllib.parse\n",
    "from astropy.coordinates import SkyCoord\n",
    "from astropy import units as u\n",
    "import pandas as pd\n",
    "from astropy.time import Time\n",
    "import numpy as np\n",
    "from tabulate import tabulate\n",
    "from astroquery.simbad import Simbad"
   ]
  },
  {
   "cell_type": "code",
   "execution_count": 139,
   "metadata": {},
   "outputs": [
    {
     "name": "stdout",
     "output_type": "stream",
     "text": [
      " MAIN_ID       RA         DEC     ... COO_WAVELENGTH     COO_BIBCODE    \n",
      "            \"h:m:s\"     \"d:m:s\"   ...                                   \n",
      "--------- ----------- ----------- ... -------------- -------------------\n",
      "NGC  6235 16 53 25.36 -22 10 38.8 ...                2006MNRAS.365.1357D\n"
     ]
    }
   ],
   "source": [
    "namecluster = 'NGC 6235'\n",
    "result_table = Simbad.query_object(namecluster)\n",
    "print(result_table)\n",
    "t = result_table[0]\n"
   ]
  },
  {
   "cell_type": "code",
   "execution_count": 140,
   "metadata": {},
   "outputs": [
    {
     "name": "stdout",
     "output_type": "stream",
     "text": [
      "|    | Target Name   | Filters/Gratings   | Instrument   |   Exp Time |   Proposal ID |   ocurrence |\n",
      "|---:|:--------------|:-------------------|:-------------|-----------:|--------------:|------------:|\n",
      "|  1 | NGC6235       | F439W              | WFPC2        |      160   |          7470 |           2 |\n",
      "|  0 | KSPOTS        | F555W              | WFPC2        |        2.6 |          7619 |           1 |\n",
      "|  2 | NGC6235       | F439W              | WFPC2        |       40   |          7470 |           1 |\n",
      "|  3 | NGC6235       | F555W              | WFPC2        |       10   |          7470 |           1 |\n",
      "|  4 | NGC6235       | F555W              | WFPC2        |       40   |          7470 |           1 |\n"
     ]
    }
   ],
   "source": [
    "racluster = t['RA']\n",
    "deccluster = t['DEC']\n",
    "c = SkyCoord(f'{racluster} {deccluster}', unit=(u.hourangle, u.deg))\n",
    "\n",
    "ra = c.ra.deg\n",
    "dec= c.dec.deg\n",
    "radius = 3.0\n",
    "\n",
    "# create URL with desired search parameters\n",
    "\n",
    "url = \"https://archive.stsci.edu/hst/search.php?\"\n",
    "url = url + f\"&RA={ra}\"\n",
    "url = url + f\"&DEC={dec}\"\n",
    "url = url + f\"&radius={radius}\"\n",
    "url = url + \"&outputformat=CSV\"\n",
    "url = url + \"&action=Search\"\n",
    "\n",
    "\n",
    "data = pd.read_csv(url,low_memory=False)\n",
    "\n",
    "data = data.drop(data.index[0])\n",
    "#m4data\n",
    "#data['YearDay'] = data['Start Time'].map(lambda times: '.'.join(Time(times).yday.split(':',2)[:2]))\n",
    "\n",
    "#data['Week'] = data['Start Time'].map(lambda times: int(np.floor(float(Time(times).yday.split(':')[1])/7.)))\n",
    "#data2 = data[data['High-Level Science Products'] == '1']\n",
    "t =data.groupby(['Target Name','Filters/Gratings','Instrument','Exp Time','Proposal ID']).size().reset_index().rename(columns={0:'ocurrence'})\n",
    "#t.sort_values(by=['ocurrence'],ascending=False)\n",
    "print(tabulate(t.sort_values(by=['ocurrence'],ascending=False), tablefmt=\"pipe\", headers=\"keys\"))"
   ]
  },
  {
   "cell_type": "code",
   "execution_count": 47,
   "metadata": {},
   "outputs": [
    {
     "data": {
      "text/html": [
       "<div>\n",
       "<style scoped>\n",
       "    .dataframe tbody tr th:only-of-type {\n",
       "        vertical-align: middle;\n",
       "    }\n",
       "\n",
       "    .dataframe tbody tr th {\n",
       "        vertical-align: top;\n",
       "    }\n",
       "\n",
       "    .dataframe thead th {\n",
       "        text-align: right;\n",
       "    }\n",
       "</style>\n",
       "<table border=\"1\" class=\"dataframe\">\n",
       "  <thead>\n",
       "    <tr style=\"text-align: right;\">\n",
       "      <th></th>\n",
       "      <th>Dataset</th>\n",
       "      <th>Target Name</th>\n",
       "      <th>RA (J2000)</th>\n",
       "      <th>Dec (J2000)</th>\n",
       "      <th>Ref</th>\n",
       "      <th>Start Time</th>\n",
       "      <th>Stop Time</th>\n",
       "      <th>Exp Time</th>\n",
       "      <th>Instrument</th>\n",
       "      <th>Apertures</th>\n",
       "      <th>Filters/Gratings</th>\n",
       "      <th>Central Wavelength</th>\n",
       "      <th>Proposal ID</th>\n",
       "      <th>Release Date</th>\n",
       "      <th>Preview Name</th>\n",
       "      <th>Scan Type</th>\n",
       "      <th>High-Level Science Products</th>\n",
       "      <th>Ang Sep (')</th>\n",
       "      <th>YearDay</th>\n",
       "      <th>Week</th>\n",
       "    </tr>\n",
       "  </thead>\n",
       "  <tbody>\n",
       "  </tbody>\n",
       "</table>\n",
       "</div>"
      ],
      "text/plain": [
       "Empty DataFrame\n",
       "Columns: [Dataset, Target Name, RA (J2000), Dec (J2000), Ref, Start Time, Stop Time, Exp Time, Instrument, Apertures, Filters/Gratings, Central Wavelength, Proposal ID, Release Date, Preview Name, Scan Type, High-Level Science Products, Ang Sep ('), YearDay, Week]\n",
       "Index: []"
      ]
     },
     "execution_count": 47,
     "metadata": {},
     "output_type": "execute_result"
    }
   ],
   "source": [
    "data2"
   ]
  },
  {
   "cell_type": "code",
   "execution_count": 51,
   "metadata": {},
   "outputs": [
    {
     "data": {
      "text/plain": [
       "2      False\n",
       "3      False\n",
       "4       True\n",
       "5       True\n",
       "6      False\n",
       "       ...  \n",
       "283    False\n",
       "284    False\n",
       "285    False\n",
       "286    False\n",
       "287    False\n",
       "Name: High-Level Science Products, Length: 286, dtype: bool"
      ]
     },
     "execution_count": 51,
     "metadata": {},
     "output_type": "execute_result"
    }
   ],
   "source": [
    "data['High-Level Science Products'] == '1'"
   ]
  },
  {
   "cell_type": "code",
   "execution_count": null,
   "metadata": {},
   "outputs": [],
   "source": []
  }
 ],
 "metadata": {
  "kernelspec": {
   "display_name": "Python 3",
   "language": "python",
   "name": "python3"
  },
  "language_info": {
   "codemirror_mode": {
    "name": "ipython",
    "version": 3
   },
   "file_extension": ".py",
   "mimetype": "text/x-python",
   "name": "python",
   "nbconvert_exporter": "python",
   "pygments_lexer": "ipython3",
   "version": "3.7.4"
  }
 },
 "nbformat": 4,
 "nbformat_minor": 4
}
